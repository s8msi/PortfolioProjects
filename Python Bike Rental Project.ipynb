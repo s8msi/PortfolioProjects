{
 "cells": [
  {
   "cell_type": "code",
   "execution_count": null,
   "id": "4482f7f8",
   "metadata": {},
   "outputs": [],
   "source": [
    "#1. Data Understanding and Exploration"
   ]
  },
  {
   "cell_type": "code",
   "execution_count": null,
   "id": "db12f611",
   "metadata": {},
   "outputs": [],
   "source": [
    "import numpy as np\n",
    "import pandas as pd\n",
    "import matplotlib.pyplot as plt\n",
    "import seaborn as sns\n",
    "from sklearn import linear_model\n",
    "from sklearn.linear_model import LinearRegression\n",
    "\n",
    "import warnings\n",
    "warnings.filterwarnings('ignore')\n",
    "\n",
    "BS_day = pd.read_csv(\"day.csv\")\n",
    "\n",
    "#1=spring, #2=summer, #3=fall & #4=winter\n",
    "BS_day.loc[(BS_day['season'] == 1) , 'season'] = 'spring'\n",
    "BS_day.loc[(BS_day['season'] == 2) , 'season'] = 'summer'\n",
    "BS_day.loc[(BS_day['season'] == 3) , 'season'] = 'fall'\n",
    "BS_day.loc[(BS_day['season'] == 4) , 'season'] = 'winter'\n",
    "\n",
    "def object_map(x):\n",
    "    return x.map({1: 'Jan', 2: 'Feb', 3: 'Mar', 4: 'Apr', 5: 'May', 6: 'Jun', 7: 'Jul',8: 'Aug',9: 'Sept',10: 'Oct',11: 'Nov',12: 'Dec'})\n",
    "\n",
    "BS_day[['mnth']] = BS_day[['mnth']].apply(object_map)\n",
    "\n",
    "def str_map(x):\n",
    "    return x.map({1: 'Wed', 2: 'Thurs', 3: 'Fri', 4: 'Sat', 5: 'Sun', 6: 'Mon', 0: 'Tues'})\n",
    "\n",
    "# Applying the function to the two columns\n",
    "BS_day[['weekday']] = BS_day[['weekday']].apply(str_map)\n",
    "\n",
    "# 1-Clear, Few clouds, Partly cloudy, Partly cloudy\n",
    "BS_day.loc[(BS_day['weathersit'] == 1) , 'weathersit'] = 'A'\n",
    "\n",
    "# 2-Mist + Cloudy, Mist + Broken clouds, Mist + Few clouds, Mist\n",
    "BS_day.loc[(BS_day['weathersit'] == 2) , 'weathersit'] = 'B'\n",
    "\n",
    "# 3-Light Snow, Light Rain + Thunderstorm + Scattered clouds, Light Rain + Scattered clouds\n",
    "BS_day.loc[(BS_day['weathersit'] == 3) , 'weathersit'] = 'C'\n",
    "\n",
    "# 4-Heavy Rain + Ice Pallets + Thunderstorm + Mist, Snow + Fog\n",
    "BS_day.loc[(BS_day['weathersit'] == 4) , 'weathersit'] = 'D'"
   ]
  },
  {
   "cell_type": "code",
   "execution_count": null,
   "id": "060d5626",
   "metadata": {},
   "outputs": [],
   "source": [
    "#2. Data Visualisation"
   ]
  },
  {
   "cell_type": "code",
   "execution_count": null,
   "id": "83a2d211",
   "metadata": {},
   "outputs": [],
   "source": [
    "sns.distplot(BS_day['temp'])\n",
    "\n",
    "# humidity\n",
    "sns.distplot(BS_day['hum'])\n",
    "\n",
    "# wind speed\n",
    "sns.distplot(BS_day['windspeed'])\n",
    "\n",
    "# Target variable: count of total rental bikes\n",
    "sns.distplot(BS_day['cnt'])\n",
    "\n",
    "# Converting date to datetime format\n",
    "BS_day['dteday']=BS_day['dteday'].astype('datetime64')\n",
    "\n",
    "IntVariableList = [\"casual\",\"registered\",\"cnt\"]\n",
    "for var in IntVariableList:\n",
    "    BS_day[var] = BS_day[var].astype(\"float\")\n",
    "\n",
    "# heatmap\n",
    "mask = np.array(cor)\n",
    "mask[np.tril_indices_from(mask)] = False\n",
    "fig,ax= plt.subplots()\n",
    "fig.set_size_inches(10,10)\n",
    "sns.heatmap(cor, mask=mask,vmax=.8, square=True,annot=True)"
   ]
  },
  {
   "cell_type": "code",
   "execution_count": null,
   "id": "5dae44c5",
   "metadata": {},
   "outputs": [],
   "source": [
    "# 3. Data Preparation "
   ]
  },
  {
   "cell_type": "code",
   "execution_count": null,
   "id": "11c4989e",
   "metadata": {},
   "outputs": [],
   "source": [
    "BS_day_categorical=BS_day.select_dtypes(include=['object'])\n",
    "\n",
    "BS_day_dummies = pd.get_dummies(BS_day_categorical, drop_first=True)\n",
    "\n",
    "BS_day = BS_day.drop(list(BS_day_categorical.columns), axis=1)\n",
    "\n",
    "BS_day = pd.concat([BS_day, BS_day_dummies], axis=1)\n",
    "\n",
    "BS_day=BS_day.drop(['instant','dteday'], axis = 1, inplace = False)"
   ]
  },
  {
   "cell_type": "code",
   "execution_count": null,
   "id": "61885fa0",
   "metadata": {},
   "outputs": [],
   "source": [
    "# 4. Model Building and Evaluation"
   ]
  },
  {
   "cell_type": "code",
   "execution_count": null,
   "id": "be78e539",
   "metadata": {},
   "outputs": [],
   "source": [
    "from sklearn.model_selection import train_test_split\n",
    "np.random.seed(0)\n",
    "df_train, df_test = train_test_split(BS_day, train_size=0.7, test_size=0.3, random_state=100)\n",
    "\n",
    "# Scaling\n",
    "from sklearn.preprocessing import MinMaxScaler\n",
    "scaler = MinMaxScaler()\n",
    "\n",
    "var = ['temp', 'hum', 'windspeed','casual','registered','cnt']\n",
    "\n",
    "df_train[var] = scaler.fit_transform(df_train[var])\n",
    "\n",
    "y_train = df_train.pop('cnt')\n",
    "X_train = df_train.drop([\"casual\",\"registered\"],axis=1) "
   ]
  },
  {
   "cell_type": "code",
   "execution_count": null,
   "id": "eba8507c",
   "metadata": {},
   "outputs": [],
   "source": [
    "# Building the final model with the features"
   ]
  },
  {
   "cell_type": "code",
   "execution_count": null,
   "id": "46b5d063",
   "metadata": {},
   "outputs": [],
   "source": [
    "import statsmodels.api as sm\n",
    "X_train_lm = sm.add_constant(X_train)\n",
    "\n",
    "lr = sm.OLS(y_train, X_train_lm).fit()\n",
    "\n",
    "lm = LinearRegression()\n",
    "\n",
    "lm.fit(X_train, y_train)"
   ]
  },
  {
   "cell_type": "code",
   "execution_count": null,
   "id": "d3b913c1",
   "metadata": {},
   "outputs": [],
   "source": [
    "#RFE"
   ]
  },
  {
   "cell_type": "code",
   "execution_count": null,
   "id": "6c4fa16e",
   "metadata": {},
   "outputs": [],
   "source": [
    "from sklearn.feature_selection import RFE\n",
    "\n",
    "# RFE with 15 features\n",
    "lm = LinearRegression()\n",
    "rfe1 = RFE(lm, 15)\n",
    "\n",
    "# Fit with 15 features\n",
    "rfe1.fit(X_train, y_train)\n",
    "\n",
    "# Print the boolean results\n",
    "print(rfe1.support_)           \n",
    "print(rfe1.ranking_)  "
   ]
  },
  {
   "cell_type": "code",
   "execution_count": null,
   "id": "10be9a0d",
   "metadata": {},
   "outputs": [],
   "source": [
    "# Model Building and Evaluation"
   ]
  },
  {
   "cell_type": "code",
   "execution_count": null,
   "id": "46d43c37",
   "metadata": {},
   "outputs": [],
   "source": [
    "import statsmodels.api as sm  \n",
    "\n",
    "col1 = X_train.columns[rfe1.support_]\n",
    "X_train_rfe1 = X_train[col1]\n",
    "X_train_rfe1 = sm.add_constant(X_train_rfe1)\n",
    "\n",
    "lm1 = sm.OLS(y_train, X_train_rfe1).fit()\n",
    "\n",
    "from statsmodels.stats.outliers_influence import variance_inflation_factor\n",
    "\n",
    "a=X_train_rfe1.drop('const',axis=1)\n",
    "\n",
    "vif = pd.DataFrame()\n",
    "vif['Features'] = a.columns\n",
    "vif['VIF'] = [variance_inflation_factor(a.values, i) for i in range(a.shape[1])]\n",
    "vif['VIF'] = round(vif['VIF'], 2)\n",
    "vif = vif.sort_values(by = \"VIF\", ascending = False)\n",
    "\n",
    "from sklearn.feature_selection import RFE\n",
    "\n",
    "lm = LinearRegression()\n",
    "rfe2 = RFE(lm, 7)\n",
    "\n",
    "rfe2.fit(X_train, y_train)\n",
    "\n",
    "import statsmodels.api as sm  \n",
    "\n",
    "col1 = X_train.columns[rfe2.support_]\n",
    "\n",
    "X_train_rfe2 = X_train[col1]\n",
    "\n",
    "X_train_rfe2 = sm.add_constant(X_train_rfe2)\n",
    "\n",
    "lm2 = sm.OLS(y_train, X_train_rfe2).fit()\n",
    "\n",
    "b=X_train_rfe2.drop('const',axis=1)\n",
    "\n",
    "vif = pd.DataFrame()\n",
    "vif['Features'] = b.columns\n",
    "vif['VIF'] = [variance_inflation_factor(b.values, i) for i in range(b.shape[1])]\n",
    "vif['VIF'] = round(vif['VIF'], 2)\n",
    "vif = vif.sort_values(by = \"VIF\", ascending = False)\n",
    "\n",
    "X_train_rfe2.drop(\"hum\",axis=1,inplace=True)\n",
    "\n",
    "X_train_rfe2 = sm.add_constant(X_train_rfe2)\n",
    "\n",
    "lm3 = sm.OLS(y_train, X_train_rfe2).fit()   \n",
    "\n",
    "c=X_train_rfe2.drop('const',axis=1)\n",
    "\n",
    "vif = pd.DataFrame()\n",
    "vif['Features'] = c.columns\n",
    "vif['VIF'] = [variance_inflation_factor(c.values, i) for i in range(c.shape[1])]\n",
    "vif['VIF'] = round(vif['VIF'], 2)\n",
    "vif = vif.sort_values(by = \"VIF\", ascending = False)"
   ]
  },
  {
   "cell_type": "code",
   "execution_count": null,
   "id": "1617b911",
   "metadata": {},
   "outputs": [],
   "source": [
    "# Residual Analysis"
   ]
  },
  {
   "cell_type": "code",
   "execution_count": null,
   "id": "dcd1cbef",
   "metadata": {},
   "outputs": [],
   "source": [
    "y_train_cnt = lm3.predict(X_train_rfe2)\n",
    "fig = plt.figure()\n",
    "sns.distplot((y_train - y_train_cnt), bins = 20)\n",
    "fig.suptitle('Error Terms', fontsize = 20)\n",
    "plt.xlabel('Errors', fontsize = 18)                         "
   ]
  },
  {
   "cell_type": "code",
   "execution_count": null,
   "id": "96937630",
   "metadata": {},
   "outputs": [],
   "source": [
    "# Making Predictions"
   ]
  },
  {
   "cell_type": "code",
   "execution_count": null,
   "id": "307e532e",
   "metadata": {},
   "outputs": [],
   "source": [
    "df_test[var] = scaler.transform(df_test[var])\n",
    "\n",
    "y_test = df_test.pop('cnt')\n",
    "X_test = df_test.drop([\"casual\",\"registered\"],axis=1)\n",
    "\n",
    "col2=c.columns\n",
    "\n",
    "X_test_rfe2 = X_test[col2]\n",
    "\n",
    "X_test_rfe2 = sm.add_constant(X_test_rfe2)\n",
    "\n",
    "y_pred = lm3.predict(X_test_rfe2)\n",
    "\n",
    "fig = plt.figure()\n",
    "plt.scatter(y_test, y_pred)\n",
    "fig.suptitle('y_test vs y_pred')              \n",
    "plt.xlabel('y_test')                          \n",
    "plt.ylabel('y_pred')\n",
    "\n",
    "from sklearn.metrics import r2_score"
   ]
  }
 ],
 "metadata": {
  "kernelspec": {
   "display_name": "Python 3 (ipykernel)",
   "language": "python",
   "name": "python3"
  },
  "language_info": {
   "codemirror_mode": {
    "name": "ipython",
    "version": 3
   },
   "file_extension": ".py",
   "mimetype": "text/x-python",
   "name": "python",
   "nbconvert_exporter": "python",
   "pygments_lexer": "ipython3",
   "version": "3.9.12"
  }
 },
 "nbformat": 4,
 "nbformat_minor": 5
}
